{
 "cells": [
  {
   "cell_type": "markdown",
   "id": "c294804b",
   "metadata": {},
   "source": [
    "# Simple Linear Regression using OLS Method"
   ]
  },
  {
   "cell_type": "code",
   "execution_count": 29,
   "id": "2740057d",
   "metadata": {},
   "outputs": [],
   "source": [
    "import numpy as np\n",
    "import pandas as pd\n",
    "from sklearn.datasets import make_regression\n",
    "from matplotlib import pyplot\n"
   ]
  },
  {
   "cell_type": "markdown",
   "id": "2cfe08c0",
   "metadata": {},
   "source": [
    "## Derived formula  OLS"
   ]
  },
  {
   "cell_type": "code",
   "execution_count": 30,
   "id": "cdbd4c20",
   "metadata": {},
   "outputs": [],
   "source": [
    "class OLSFormulaSLR:\n",
    "    \n",
    "    def __init__(self):\n",
    "        self.beta1 = None\n",
    "        self.beta0 = None\n",
    "        \n",
    "    def fit(self,X_train,y_train):\n",
    "        \n",
    "        num = 0\n",
    "        den = 0\n",
    "        \n",
    "        for i in range(X_train.shape[0]):\n",
    "            \n",
    "            num = num + ((X_train[i] - X_train.mean())*(y_train[i] - y_train.mean()))\n",
    "            den = den + ((X_train[i] - X_train.mean())*(X_train[i] - X_train.mean()))\n",
    "        \n",
    "        self.beta1 = num/den\n",
    "        self.beta0 = y_train.mean() - (self.beta1 * X_train.mean())\n",
    "        print(\"Coefficient - \",self.beta1)\n",
    "        print(\"Intercept - \",self.beta0)       \n",
    "    \n",
    "    def predict(self,X_test):\n",
    "        \n",
    "        #print(X_test)\n",
    "        \n",
    "        return self.beta1 * X_test + self.beta0"
   ]
  },
  {
   "cell_type": "code",
   "execution_count": 31,
   "id": "2461d399",
   "metadata": {},
   "outputs": [
    {
     "data": {
      "image/png": "[encoded data removed]",
      "text/plain": [
       "<Figure size 432x288 with 1 Axes>"
      ]
     },
     "metadata": {
      "needs_background": "light"
     },
     "output_type": "display_data"
    }
   ],
   "source": [
    "# generate regression dataset\n",
    "X, y = make_regression(n_samples=100, n_features=1, noise=100,random_state=2021)\n",
    "# plot regression dataset\n",
    "pyplot.scatter(X,y)\n",
    "pyplot.show()"
   ]
  },
  {
   "cell_type": "code",
   "execution_count": 32,
   "id": "ba848068",
   "metadata": {},
   "outputs": [],
   "source": [
    "from sklearn.model_selection import train_test_split\n",
    "X_train,X_test,y_train,y_test = train_test_split(X,y,test_size=0.2,random_state=2)"
   ]
  },
  {
   "cell_type": "code",
   "execution_count": 33,
   "id": "ecbe15c0",
   "metadata": {},
   "outputs": [
    {
     "name": "stdout",
     "output_type": "stream",
     "text": [
      "Coefficient -  [61.95721136]\n",
      "Intercept -  [2.48222823]\n"
     ]
    }
   ],
   "source": [
    "slr = OLSFormulaSLR()\n",
    "slr.fit(X_train,y_train)"
   ]
  },
  {
   "cell_type": "code",
   "execution_count": 34,
   "id": "54a1febe",
   "metadata": {},
   "outputs": [
    {
     "name": "stdout",
     "output_type": "stream",
     "text": [
      "[56.4078327]\n"
     ]
    }
   ],
   "source": [
    "print(slr.predict(X_test[0]))"
   ]
  },
  {
   "cell_type": "markdown",
   "id": "54ccbac3",
   "metadata": {},
   "source": [
    "## Using Linear Regression from Scikit Learning"
   ]
  },
  {
   "cell_type": "code",
   "execution_count": 35,
   "id": "cf54810f",
   "metadata": {},
   "outputs": [],
   "source": [
    "from sklearn.linear_model import LinearRegression"
   ]
  },
  {
   "cell_type": "code",
   "execution_count": 36,
   "id": "762726b7",
   "metadata": {},
   "outputs": [],
   "source": [
    "lr = LinearRegression()"
   ]
  },
  {
   "cell_type": "code",
   "execution_count": 37,
   "id": "52029396",
   "metadata": {},
   "outputs": [
    {
     "data": {
      "text/plain": [
       "LinearRegression()"
      ]
     },
     "execution_count": 37,
     "metadata": {},
     "output_type": "execute_result"
    }
   ],
   "source": [
    "lr.fit(X_train,y_train)"
   ]
  },
  {
   "cell_type": "code",
   "execution_count": 45,
   "id": "eb208b25",
   "metadata": {},
   "outputs": [
    {
     "data": {
      "text/plain": [
       "array([0.87036849])"
      ]
     },
     "execution_count": 45,
     "metadata": {},
     "output_type": "execute_result"
    }
   ],
   "source": [
    "X_test[0]"
   ]
  },
  {
   "cell_type": "code",
   "execution_count": 48,
   "id": "2114efb0",
   "metadata": {},
   "outputs": [
    {
     "data": {
      "text/plain": [
       "array([56.4078327])"
      ]
     },
     "execution_count": 48,
     "metadata": {},
     "output_type": "execute_result"
    }
   ],
   "source": [
    "pred = lr.predict(X_test[0].reshape(-1,1))\n",
    "pred"
   ]
  },
  {
   "cell_type": "code",
   "execution_count": 49,
   "id": "fe89e9dd",
   "metadata": {},
   "outputs": [
    {
     "data": {
      "text/plain": [
       "2.482228231715279"
      ]
     },
     "execution_count": 49,
     "metadata": {},
     "output_type": "execute_result"
    }
   ],
   "source": [
    "lr.intercept_"
   ]
  },
  {
   "cell_type": "code",
   "execution_count": 50,
   "id": "d5b5924a",
   "metadata": {},
   "outputs": [
    {
     "data": {
      "text/plain": [
       "array([61.95721136])"
      ]
     },
     "execution_count": 50,
     "metadata": {},
     "output_type": "execute_result"
    }
   ],
   "source": [
    "lr.coef_"
   ]
  },
  {
   "cell_type": "markdown",
   "id": "96974596",
   "metadata": {},
   "source": [
    "#### We can see  intercept , coeffient and predicted values are same in both the cases."
   ]
  }
 ],
 "metadata": {
  "kernelspec": {
   "display_name": "Python 3",
   "language": "python",
   "name": "python3"
  },
  "language_info": {
   "codemirror_mode": {
    "name": "ipython",
    "version": 3
   },
   "file_extension": ".py",
   "mimetype": "text/x-python",
   "name": "python",
   "nbconvert_exporter": "python",
   "pygments_lexer": "ipython3",
   "version": "3.8.8"
  }
 },
 "nbformat": 4,
 "nbformat_minor": 5
}
